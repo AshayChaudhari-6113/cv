{
  "nbformat": 4,
  "nbformat_minor": 0,
  "metadata": {
    "colab": {
      "provenance": []
    },
    "kernelspec": {
      "name": "python3",
      "display_name": "Python 3"
    },
    "language_info": {
      "name": "python"
    }
  },
  "cells": [
    {
      "cell_type": "code",
      "execution_count": null,
      "metadata": {
        "id": "xV5m1R_JoZqd"
      },
      "outputs": [],
      "source": [
        "import cv2\n",
        "\n",
        "img = cv2.imread(\"/content/drive/MyDrive/FIPLab/Dataset/Mona_Lisal.jpg\")\n",
        "\n",
        "import numpy as np\n"
      ]
    },
    {
      "cell_type": "code",
      "source": [
        "np.shape(img)"
      ],
      "metadata": {
        "id": "Z0mrAqTqoeNf"
      },
      "execution_count": null,
      "outputs": []
    },
    {
      "cell_type": "code",
      "source": [
        "img"
      ],
      "metadata": {
        "id": "yH1t8qWsoeKp"
      },
      "execution_count": null,
      "outputs": []
    },
    {
      "cell_type": "code",
      "source": [
        "print(img)"
      ],
      "metadata": {
        "id": "lW-5GVbboeIT"
      },
      "execution_count": null,
      "outputs": []
    },
    {
      "cell_type": "code",
      "source": [
        "from google.colab.patches import cv2_imshow\n",
        "\n",
        "cv2_imshow(img)"
      ],
      "metadata": {
        "id": "E1pYoARioeF6"
      },
      "execution_count": null,
      "outputs": []
    },
    {
      "cell_type": "code",
      "source": [
        "cv2.imwrite(\"/content/drive/MyDrive/FIPLab/Dataset/imgll.png\",img)"
      ],
      "metadata": {
        "id": "YDX8d4fCoeDa"
      },
      "execution_count": null,
      "outputs": []
    },
    {
      "cell_type": "code",
      "source": [
        "imgl = cv2.cvtColor(img,cv2.C0L0R_BGR2RGB)"
      ],
      "metadata": {
        "id": "yslfKUGBoeBM"
      },
      "execution_count": null,
      "outputs": []
    },
    {
      "cell_type": "code",
      "source": [
        "imgl"
      ],
      "metadata": {
        "id": "ge0rptpvod-b"
      },
      "execution_count": null,
      "outputs": []
    },
    {
      "cell_type": "code",
      "source": [
        "import matplotlib.pyplot as plt"
      ],
      "metadata": {
        "id": "0tkPeWs_od8H"
      },
      "execution_count": null,
      "outputs": []
    },
    {
      "cell_type": "code",
      "source": [
        "plt.subplot(2,2,1) plt.imshow(img)\n",
        "plt.axis(\"off\")\n",
        "plt.subplot(2,2,2)\n",
        "plt.imshow(imgl)\n",
        "plt.axis(\"on\")\n",
        "plt.subplot(2,2,3)\n",
        "plt.imshow(img)\n",
        "plt.axis(\"on\")\n",
        "plt.subplot(2,2,4)\n",
        "plt.imshow(imgl)\n",
        "plt.axis(\"on\")"
      ],
      "metadata": {
        "id": "9sWxCkl4od5u"
      },
      "execution_count": null,
      "outputs": []
    },
    {
      "cell_type": "code",
      "source": [
        "gray_img\tcv2.cvtColor(imgl,cv2.COLOR_RGB2GRAY)"
      ],
      "metadata": {
        "id": "rqPVtRbqpVuM"
      },
      "execution_count": null,
      "outputs": []
    },
    {
      "cell_type": "code",
      "source": [
        "gray_img"
      ],
      "metadata": {
        "id": "FMwV9307pVrP"
      },
      "execution_count": null,
      "outputs": []
    },
    {
      "cell_type": "code",
      "source": [
        "plt.subplot(l,3,1)\n",
        "plt.imshow(img)\n",
        "plt.axis(\"off\")\n",
        "plt.title(\"BGR Format Image\")\n",
        "plt.subplot(l,3,2)\n",
        "plt.imshow(imgl)\n",
        "plt.axis(\"on\")\n",
        "plt.title(\"RGB Format Image\")\n",
        "plt.subplot(l,3,3)\n",
        "plt.imshow(gray_img,'gray')\n",
        "plt.axis(\"on\")\n",
        "plt.title(\"Gray Scale Image\")"
      ],
      "metadata": {
        "id": "kkF2UT8ZpVot"
      },
      "execution_count": null,
      "outputs": []
    },
    {
      "cell_type": "code",
      "source": [],
      "metadata": {
        "id": "e9MWnceYpVmW"
      },
      "execution_count": null,
      "outputs": []
    },
    {
      "cell_type": "code",
      "source": [],
      "metadata": {
        "id": "Q7033oslpVj-"
      },
      "execution_count": null,
      "outputs": []
    },
    {
      "cell_type": "code",
      "source": [],
      "metadata": {
        "id": "W9cy1ww4pVhc"
      },
      "execution_count": null,
      "outputs": []
    },
    {
      "cell_type": "code",
      "source": [],
      "metadata": {
        "id": "LhrSegHSpVfN"
      },
      "execution_count": null,
      "outputs": []
    },
    {
      "cell_type": "code",
      "source": [],
      "metadata": {
        "id": "1O4hNw0wpVc5"
      },
      "execution_count": null,
      "outputs": []
    },
    {
      "cell_type": "code",
      "source": [],
      "metadata": {
        "id": "Nfp_5ZRXpVaR"
      },
      "execution_count": null,
      "outputs": []
    }
  ]
}