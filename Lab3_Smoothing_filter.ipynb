{
  "nbformat": 4,
  "nbformat_minor": 0,
  "metadata": {
    "colab": {
      "provenance": []
    },
    "kernelspec": {
      "name": "python3",
      "display_name": "Python 3"
    },
    "language_info": {
      "name": "python"
    }
  },
  "cells": [
    {
      "cell_type": "code",
      "execution_count": null,
      "metadata": {
        "id": "Xdi0P7vnsiPp"
      },
      "outputs": [],
      "source": [
        "from google.colab import drive\n",
        "drive.mount('/content/drive')"
      ]
    },
    {
      "cell_type": "code",
      "source": [
        "import cv2\n",
        "import numpy as np\n",
        "import matplotlib.pyplot as plt\n"
      ],
      "metadata": {
        "id": "NsuYjTIksuty"
      },
      "execution_count": null,
      "outputs": []
    },
    {
      "cell_type": "code",
      "source": [
        "img = cv2.imread('/content/drive/MyDrive/FIPLab/Dataset/cameraman.jpg',0)\n",
        "\n"
      ],
      "metadata": {
        "id": "GlZ9hkHksup0"
      },
      "execution_count": null,
      "outputs": []
    },
    {
      "cell_type": "code",
      "source": [
        "img.shape"
      ],
      "metadata": {
        "id": "E73BxabKsuoy"
      },
      "execution_count": null,
      "outputs": []
    },
    {
      "cell_type": "code",
      "source": [
        "# Generate random Gaussian noise mean= 0\n",
        "stddev = 100\n",
        "noise= np.zeros(img.shape, np.uint8)\n",
        "cv2.randn(noise, mean, stddev)\n",
        "plt.imshow(noise,'gray')\n"
      ],
      "metadata": {
        "id": "72CRvq_ZsunV"
      },
      "execution_count": null,
      "outputs": []
    },
    {
      "cell_type": "code",
      "source": [
        "# Add noise to image\n",
        "noisy_img = cv2.add(img, noise)\n",
        "plt.imshow(noisy_img,'gray')\n"
      ],
      "metadata": {
        "id": "luOPuWgisumA"
      },
      "execution_count": null,
      "outputs": []
    },
    {
      "cell_type": "code",
      "source": [
        "# Smoothing/low-pass filter kernel\n",
        "kernel= np.ones((3,3),np.float32)/9\n",
        "kernel"
      ],
      "metadata": {
        "id": "E1L6OThPsukf"
      },
      "execution_count": null,
      "outputs": []
    },
    {
      "cell_type": "code",
      "source": [
        "# Smoothing/low-pass filter using filter2D command\n",
        "dst = cv2.filter2D(noisy_img,-1, kernel)\n",
        "\n",
        "\n"
      ],
      "metadata": {
        "id": "XIIHGGfDsujb"
      },
      "execution_count": null,
      "outputs": []
    },
    {
      "cell_type": "code",
      "source": [
        "plt.subplot(231), plt.imshow(img,'gray'), plt.title('Original Image'),plt.axis('off')\n",
        "plt.subplot(232), plt.imshow(noisy_img,'gray'), plt.title('Noisy Image')\n",
        "plt.subplot(233),plt.imshow(dst, 'gray'),plt.title('Average Filtered Image')\n",
        "plt.subplot(234),plt.hist(img.ravel(),256,[0,256]),plt.title('hist of original')\n",
        "plt.subplot(235),plt.hist(noisy_img.ravel(),256,[0,256]),plt.title('hist of noisy')\n",
        "plt.subplot(236),plt.hist(dst.ravel(),256,[0,256]),plt.title('hist of reconstructed')\n",
        "plt.show()"
      ],
      "metadata": {
        "id": "v0OhHRs_suh1"
      },
      "execution_count": null,
      "outputs": []
    },
    {
      "cell_type": "code",
      "source": [],
      "metadata": {
        "id": "O2qC5_ossugp"
      },
      "execution_count": null,
      "outputs": []
    },
    {
      "cell_type": "code",
      "source": [],
      "metadata": {
        "id": "ZUoYtgjVsufC"
      },
      "execution_count": null,
      "outputs": []
    },
    {
      "cell_type": "code",
      "source": [],
      "metadata": {
        "id": "1IBKR-ldsudu"
      },
      "execution_count": null,
      "outputs": []
    },
    {
      "cell_type": "code",
      "source": [],
      "metadata": {
        "id": "zJRiVHISsucG"
      },
      "execution_count": null,
      "outputs": []
    },
    {
      "cell_type": "code",
      "source": [],
      "metadata": {
        "id": "Xt1KhLQvsua8"
      },
      "execution_count": null,
      "outputs": []
    },
    {
      "cell_type": "code",
      "source": [],
      "metadata": {
        "id": "OOmGBSrSsuZx"
      },
      "execution_count": null,
      "outputs": []
    },
    {
      "cell_type": "code",
      "source": [],
      "metadata": {
        "id": "Haa6hycFsuYn"
      },
      "execution_count": null,
      "outputs": []
    },
    {
      "cell_type": "code",
      "source": [],
      "metadata": {
        "id": "zVriYPmesuXh"
      },
      "execution_count": null,
      "outputs": []
    },
    {
      "cell_type": "code",
      "source": [],
      "metadata": {
        "id": "bplEju4csuV0"
      },
      "execution_count": null,
      "outputs": []
    },
    {
      "cell_type": "code",
      "source": [],
      "metadata": {
        "id": "DpCqYKLCsuUU"
      },
      "execution_count": null,
      "outputs": []
    },
    {
      "cell_type": "code",
      "source": [],
      "metadata": {
        "id": "gO4cf_s6suSw"
      },
      "execution_count": null,
      "outputs": []
    },
    {
      "cell_type": "code",
      "source": [],
      "metadata": {
        "id": "XMi_CuJnsuRS"
      },
      "execution_count": null,
      "outputs": []
    },
    {
      "cell_type": "code",
      "source": [],
      "metadata": {
        "id": "CK-YjG3NsuNs"
      },
      "execution_count": null,
      "outputs": []
    },
    {
      "cell_type": "code",
      "source": [],
      "metadata": {
        "id": "jRbJ3ISRsuLw"
      },
      "execution_count": null,
      "outputs": []
    },
    {
      "cell_type": "code",
      "source": [],
      "metadata": {
        "id": "-mwaccV_suI5"
      },
      "execution_count": null,
      "outputs": []
    },
    {
      "cell_type": "code",
      "source": [],
      "metadata": {
        "id": "pAsZTcQIsuHj"
      },
      "execution_count": null,
      "outputs": []
    },
    {
      "cell_type": "code",
      "source": [],
      "metadata": {
        "id": "oiZNfHDAsuGR"
      },
      "execution_count": null,
      "outputs": []
    },
    {
      "cell_type": "code",
      "source": [],
      "metadata": {
        "id": "WGI7u-9usuFC"
      },
      "execution_count": null,
      "outputs": []
    },
    {
      "cell_type": "code",
      "source": [],
      "metadata": {
        "id": "nYhepkudsuDl"
      },
      "execution_count": null,
      "outputs": []
    },
    {
      "cell_type": "code",
      "source": [],
      "metadata": {
        "id": "9jeU4gRWsuCN"
      },
      "execution_count": null,
      "outputs": []
    },
    {
      "cell_type": "code",
      "source": [],
      "metadata": {
        "id": "9P-zYgGasuA4"
      },
      "execution_count": null,
      "outputs": []
    },
    {
      "cell_type": "code",
      "source": [],
      "metadata": {
        "id": "mkMGi8ZSst_m"
      },
      "execution_count": null,
      "outputs": []
    },
    {
      "cell_type": "code",
      "source": [],
      "metadata": {
        "id": "g73OgeGLst-D"
      },
      "execution_count": null,
      "outputs": []
    },
    {
      "cell_type": "code",
      "source": [],
      "metadata": {
        "id": "MGFJXK0Ost8a"
      },
      "execution_count": null,
      "outputs": []
    }
  ]
}