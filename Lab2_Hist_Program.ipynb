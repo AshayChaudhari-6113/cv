{
  "nbformat": 4,
  "nbformat_minor": 0,
  "metadata": {
    "colab": {
      "provenance": []
    },
    "kernelspec": {
      "name": "python3",
      "display_name": "Python 3"
    },
    "language_info": {
      "name": "python"
    }
  },
  "cells": [
    {
      "cell_type": "code",
      "execution_count": null,
      "metadata": {
        "id": "tm8kJ9ijqAJ7"
      },
      "outputs": [],
      "source": [
        "from google.colab import drive drive.mount('/content/drive')\n",
        "\n",
        "import cv2 # Import opencv library\n"
      ]
    },
    {
      "cell_type": "code",
      "source": [
        "img = cv2.imread(\"/content/drive/MyDrive/FIPLab/Dataset/imgll.png\")\n",
        "img.shape"
      ],
      "metadata": {
        "id": "Nimw3ewKqLnG"
      },
      "execution_count": null,
      "outputs": []
    },
    {
      "cell_type": "code",
      "source": [
        "# Coverting BGR image into gray scale image\n",
        "gray_img = cv2.cvtColor(img,cv2.COLOR_BGR2GRAY)\n",
        "\n",
        "gray_img\n"
      ],
      "metadata": {
        "id": "3c1q56cAqLk2"
      },
      "execution_count": null,
      "outputs": []
    },
    {
      "cell_type": "code",
      "source": [
        "import numpy as np\n",
        "mask\tnp.zeros(gray_img.shape,\"uint8\")\n",
        "mask\n"
      ],
      "metadata": {
        "id": "XP1xkLRzqLig"
      },
      "execution_count": null,
      "outputs": []
    },
    {
      "cell_type": "code",
      "source": [
        "mask[S:150,50:200]=255\n",
        "mask\n"
      ],
      "metadata": {
        "id": "Y-DHReW1qLgJ"
      },
      "execution_count": null,
      "outputs": []
    },
    {
      "cell_type": "code",
      "source": [
        "# calcHist function\n",
        "# 1st input-> image for which you want to plot histogram\n",
        "# 2nd input-> is channnel number\n",
        "# 3rd input-> mask if you want to calculate histogram for small part of image\n",
        "# 4th input-> histsize indicate size of histogram i.e. x-axis size\n",
        "# 5th input-> indicates range of intensity values for which you want to calculate histogram\n",
        "histr = cv2.calcHist([gray_img],[0],mask,[255],[0,256])\n",
        "\n",
        "help(cv2.calcHist)\n"
      ],
      "metadata": {
        "id": "ws1DZoKSqLdu"
      },
      "execution_count": null,
      "outputs": []
    },
    {
      "cell_type": "code",
      "source": [
        "import matplotlib.pyplot as plt\n",
        "\n",
        "plt.figure(figsize=(10,6))\n",
        "plt.subplot(121)\n",
        "plt.imshow(gray_img,\"gray\")\n",
        "plt.title(\"original image\")\n",
        "plt.subplot(122)\n",
        "plt.plot(histr)\n",
        "plt.xlabel(\"intensity values\")\n",
        "plt.ylabel(\"frequencies of intensity values\")\n",
        "plt.title(\"Histogram of an image\")\n"
      ],
      "metadata": {
        "id": "rDw9t1I4qLbM"
      },
      "execution_count": null,
      "outputs": []
    },
    {
      "cell_type": "code",
      "source": [
        "plt.hist(gray_img.ravel(),15,[0,256])"
      ],
      "metadata": {
        "id": "rM4Fm_GTqLY1"
      },
      "execution_count": null,
      "outputs": []
    },
    {
      "cell_type": "code",
      "source": [
        "hist_eq = cv2.equalizeHist(gray_img)"
      ],
      "metadata": {
        "id": "ygpVwNUNqLWQ"
      },
      "execution_count": null,
      "outputs": []
    },
    {
      "cell_type": "code",
      "source": [
        "plt.subplot(221)\n",
        "plt.imshow(gray_img,\"gray\")\n",
        "plt.subplot(222)\n",
        "plt.hist(gray_img.ravel(),255,[0,256])\n",
        "plt.subplot(223)\n",
        "plt.imshow(hist_eq,'gray')\n",
        "plt.subplot(224)\n",
        "plt.hist(hist_eq.ravel(),255,[0,256])\n",
        "plt.show()"
      ],
      "metadata": {
        "id": "9mHv7hvpqLTs"
      },
      "execution_count": null,
      "outputs": []
    },
    {
      "cell_type": "code",
      "source": [],
      "metadata": {
        "id": "fkvsdYyBqLQ9"
      },
      "execution_count": null,
      "outputs": []
    },
    {
      "cell_type": "code",
      "source": [],
      "metadata": {
        "id": "PFbJwODFqLOa"
      },
      "execution_count": null,
      "outputs": []
    },
    {
      "cell_type": "code",
      "source": [],
      "metadata": {
        "id": "zpXu6ASbqLL0"
      },
      "execution_count": null,
      "outputs": []
    },
    {
      "cell_type": "code",
      "source": [],
      "metadata": {
        "id": "b62jnOgkqLJO"
      },
      "execution_count": null,
      "outputs": []
    },
    {
      "cell_type": "code",
      "source": [],
      "metadata": {
        "id": "t01OlrvrqLGz"
      },
      "execution_count": null,
      "outputs": []
    },
    {
      "cell_type": "code",
      "source": [],
      "metadata": {
        "id": "-5qlCeRXqLEQ"
      },
      "execution_count": null,
      "outputs": []
    },
    {
      "cell_type": "code",
      "source": [],
      "metadata": {
        "id": "YlIeEF7_qLBm"
      },
      "execution_count": null,
      "outputs": []
    },
    {
      "cell_type": "code",
      "source": [],
      "metadata": {
        "id": "-KjPhSijqK_C"
      },
      "execution_count": null,
      "outputs": []
    },
    {
      "cell_type": "code",
      "source": [],
      "metadata": {
        "id": "nuSf28twqK8e"
      },
      "execution_count": null,
      "outputs": []
    },
    {
      "cell_type": "code",
      "source": [],
      "metadata": {
        "id": "qFjEzy9OqK54"
      },
      "execution_count": null,
      "outputs": []
    },
    {
      "cell_type": "code",
      "source": [],
      "metadata": {
        "id": "HS2r2zvCqK3p"
      },
      "execution_count": null,
      "outputs": []
    },
    {
      "cell_type": "code",
      "source": [],
      "metadata": {
        "id": "XSPMmqUSqK1J"
      },
      "execution_count": null,
      "outputs": []
    },
    {
      "cell_type": "code",
      "source": [],
      "metadata": {
        "id": "rfVQerRaqKyv"
      },
      "execution_count": null,
      "outputs": []
    },
    {
      "cell_type": "code",
      "source": [],
      "metadata": {
        "id": "vCKjewOAqKwb"
      },
      "execution_count": null,
      "outputs": []
    },
    {
      "cell_type": "code",
      "source": [],
      "metadata": {
        "id": "X2pY-jAsqKuD"
      },
      "execution_count": null,
      "outputs": []
    },
    {
      "cell_type": "code",
      "source": [],
      "metadata": {
        "id": "nNvLZKl6qKrR"
      },
      "execution_count": null,
      "outputs": []
    },
    {
      "cell_type": "code",
      "source": [],
      "metadata": {
        "id": "RutsdstFqKpI"
      },
      "execution_count": null,
      "outputs": []
    },
    {
      "cell_type": "code",
      "source": [],
      "metadata": {
        "id": "yt-s9LnRqKmt"
      },
      "execution_count": null,
      "outputs": []
    },
    {
      "cell_type": "code",
      "source": [],
      "metadata": {
        "id": "DFmp8adZqKkd"
      },
      "execution_count": null,
      "outputs": []
    }
  ]
}